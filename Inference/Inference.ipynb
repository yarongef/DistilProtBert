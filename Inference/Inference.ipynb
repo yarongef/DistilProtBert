{
 "cells": [
  {
   "cell_type": "markdown",
   "id": "0bb32059-d9b5-4d02-8a05-ace7c0b9c6fd",
   "metadata": {},
   "source": [
    "Imports"
   ]
  },
  {
   "cell_type": "code",
   "execution_count": 13,
   "id": "045429cb-91e8-4909-90ad-9c161e91d363",
   "metadata": {},
   "outputs": [],
   "source": [
    "import torch\n",
    "import numpy as np\n",
    "from datasets import load_dataset\n",
    "from torch.utils.data import DataLoader, Dataset, TensorDataset\n",
    "from torch import nn\n",
    "from sklearn.metrics import accuracy_score, precision_recall_fscore_support, roc_auc_score"
   ]
  },
  {
   "cell_type": "markdown",
   "id": "421bf7d6-6e39-4599-b0ad-927702e6e81a",
   "metadata": {},
   "source": [
    "Constants"
   ]
  },
  {
   "cell_type": "code",
   "execution_count": 14,
   "id": "a6b161a1-8a73-4c03-8ad5-5a45b5f7142e",
   "metadata": {},
   "outputs": [],
   "source": [
    "K_LET = 'singlets'\n",
    "BATCH_SIZE = 32\n",
    "MAX_POOLED_EMBEDDING_SIZE = 64\n",
    "MAX_SEQ_LEN = 512\n",
    "device = torch.device('cuda:0' if torch.cuda.is_available() else 'cpu')\n",
    "test_set_path = f\"yarongef/{K_LET}_test_set\"\n",
    "dataset_path = 'dataset_features/'"
   ]
  },
  {
   "cell_type": "markdown",
   "id": "fe2bf66b-6d3e-40d9-9200-5c28bca1c9f9",
   "metadata": {},
   "source": [
    "Functions"
   ]
  },
  {
   "cell_type": "code",
   "execution_count": 15,
   "id": "07202a67-239e-4ad8-a9d5-a09128c90a7e",
   "metadata": {},
   "outputs": [],
   "source": [
    "def compute_metrics(labels, preds):\n",
    "    precision, recall, f1, _ = precision_recall_fscore_support(labels, preds, average='binary')\n",
    "    acc = accuracy_score(labels, preds)\n",
    "    auroc = roc_auc_score(labels, preds)\n",
    "    return {\n",
    "        'Accuracy': acc,\n",
    "        'F1': f1,\n",
    "        'Precision': precision,\n",
    "        'Recall': recall,\n",
    "        'AUC': auroc\n",
    "    }"
   ]
  },
  {
   "cell_type": "markdown",
   "id": "cf376454-2482-499a-a29a-ad577b063aa8",
   "metadata": {},
   "source": [
    "Prepare test set"
   ]
  },
  {
   "cell_type": "code",
   "execution_count": 16,
   "id": "1ac80fb6-2fe8-48b8-a835-f1e2929aabfa",
   "metadata": {},
   "outputs": [
    {
     "name": "stderr",
     "output_type": "stream",
     "text": [
      "Using custom data configuration yarongef--singlets_test_set-194a57208e38f16d\n",
      "Reusing dataset csv (/home/jovyan/.cache/huggingface/datasets/csv/yarongef--singlets_test_set-194a57208e38f16d/0.0.0/433e0ccc46f9880962cc2b12065189766fbb2bee57a221866138fb9203c83519)\n"
     ]
    },
    {
     "data": {
      "application/vnd.jupyter.widget-view+json": {
       "model_id": "a430d37bad0d45aa8c584b0e15e612ce",
       "version_major": 2,
       "version_minor": 0
      },
      "text/plain": [
       "  0%|          | 0/1 [00:00<?, ?it/s]"
      ]
     },
     "metadata": {},
     "output_type": "display_data"
    }
   ],
   "source": [
    "x_test_set = torch.load(f'{dataset_path}{K_LET}').float()\n",
    "x_test_set = x_test_set.view(x_test_set.shape[0], x_test_set.shape[1]*x_test_set.shape[2])\n",
    "test_set = load_dataset(test_set_path)\n",
    "true_labels = torch.Tensor(test_set['test']['label'])\n",
    "x_test_set = x_test_set.to(device)\n",
    "test_dataset = TensorDataset(x_test_set)\n",
    "test_loader = DataLoader(dataset=test_dataset, batch_size=BATCH_SIZE, shuffle=False, drop_last=False)"
   ]
  },
  {
   "cell_type": "markdown",
   "id": "ca9f5f5b-47e9-4498-8c3f-15714e84203b",
   "metadata": {},
   "source": [
    "Instantiate classification model"
   ]
  },
  {
   "cell_type": "code",
   "execution_count": 18,
   "id": "076cd0f1-78e4-4925-b4de-e44f14b2b5a6",
   "metadata": {},
   "outputs": [
    {
     "name": "stdout",
     "output_type": "stream",
     "text": [
      "linear.weight\n",
      "torch.Size([1024, 32768])\n",
      "linear.bias\n",
      "torch.Size([1024])\n",
      "linear4.weight\n",
      "torch.Size([256, 1024])\n",
      "linear4.bias\n",
      "torch.Size([256])\n",
      "linear5.weight\n",
      "torch.Size([1, 256])\n",
      "linear5.bias\n",
      "torch.Size([1])\n"
     ]
    }
   ],
   "source": [
    "class classify_Network(nn.Module):\n",
    "    def __init__(self, hidden_dim, output_dim):\n",
    "        super(classify_Network, self).__init__()\n",
    "        \n",
    "        # layers\n",
    "        self.linear = nn.Linear(hidden_dim, hidden_dim//32)\n",
    "        self.linear4 = nn.Linear(hidden_dim//32, hidden_dim//128)\n",
    "        self.linear5 = nn.Linear(hidden_dim//128, output_dim)\n",
    "        \n",
    "        # activation functions\n",
    "        self.hidden_activation = nn.ReLU()\n",
    "        self.last_activation = nn.Sigmoid()\n",
    "        \n",
    "        self.dropout = nn.Dropout(0.1)   \n",
    "    \n",
    "    def forward(self, x):\n",
    "        x = self.hidden_activation(self.linear(x))\n",
    "        x = self.dropout(x)\n",
    "        x = self.hidden_activation(self.linear4(x))\n",
    "        x = self.dropout(x)\n",
    "        x = self.last_activation(self.linear5(x))\n",
    "        return x.squeeze()\n",
    "    \n",
    "model = classify_Network(MAX_SEQ_LEN*MAX_POOLED_EMBEDDING_SIZE, 1)\n",
    "model.load_state_dict(torch.load(f'model/{K_LET}/model.pt')) # relative path to model folder\n",
    "model.to(device)\n",
    "\n",
    "for name, param in model.named_parameters():\n",
    "    print(name)\n",
    "    print(param.shape)"
   ]
  },
  {
   "cell_type": "markdown",
   "id": "b78efce5-29b0-47bb-9b10-a55509ecabfc",
   "metadata": {},
   "source": [
    "Inference"
   ]
  },
  {
   "cell_type": "code",
   "execution_count": 20,
   "id": "e960cc0b-cb3a-4dd8-839c-77f00ac186eb",
   "metadata": {},
   "outputs": [
    {
     "name": "stdout",
     "output_type": "stream",
     "text": [
      "Accuracy 0.927715996578272\n",
      "F1 0.9263616557734204\n",
      "Precision 0.9440497335701599\n",
      "Recall 0.9093242087254063\n",
      "AUC 0.927715996578272\n"
     ]
    }
   ],
   "source": [
    "with torch.inference_mode():\n",
    "    model.eval()\n",
    "    res = np.zeros((len(true_labels)))\n",
    "    i = 0\n",
    "    for inputs, in test_loader:\n",
    "        output = model(inputs)\n",
    "        output = torch.round(output)\n",
    "        res[i*BATCH_SIZE:i*BATCH_SIZE+BATCH_SIZE] = output.cpu().detach().numpy()\n",
    "        i += 1\n",
    "\n",
    "metrics = compute_metrics(true_labels, res)\n",
    "for metric in metrics:\n",
    "    print(metric, metrics[metric])"
   ]
  }
 ],
 "metadata": {
  "kernelspec": {
   "display_name": "Python 3",
   "language": "python",
   "name": "python3"
  },
  "language_info": {
   "codemirror_mode": {
    "name": "ipython",
    "version": 3
   },
   "file_extension": ".py",
   "mimetype": "text/x-python",
   "name": "python",
   "nbconvert_exporter": "python",
   "pygments_lexer": "ipython3",
   "version": "3.8.5"
  }
 },
 "nbformat": 4,
 "nbformat_minor": 5
}