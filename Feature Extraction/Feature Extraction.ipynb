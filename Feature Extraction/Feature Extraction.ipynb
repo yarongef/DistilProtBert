{
 "cells": [
  {
   "cell_type": "markdown",
   "id": "fd4f1489-6eea-40a2-99a4-9fc3916f4501",
   "metadata": {
    "pycharm": {
     "name": "#%% md\n"
    }
   },
   "source": [
    "Imports"
   ]
  },
  {
   "cell_type": "code",
   "execution_count": 2,
   "id": "39d26e95-a21f-49fb-836c-83421628c630",
   "metadata": {
    "pycharm": {
     "name": "#%%\n"
    }
   },
   "outputs": [],
   "source": [
    "import torch\n",
    "from transformers import AutoTokenizer, AutoModel, pipeline\n",
    "import re\n",
    "import numpy as np\n",
    "import os\n",
    "import pandas as pd\n",
    "from torch import nn\n",
    "from datasets import load_dataset"
   ]
  },
  {
   "cell_type": "markdown",
   "id": "1ad27866-7c1c-44dc-b358-56752f020b05",
   "metadata": {
    "pycharm": {
     "name": "#%% md\n"
    }
   },
   "source": [
    "Consts"
   ]
  },
  {
   "cell_type": "code",
   "execution_count": 3,
   "id": "0573523e-91b9-4260-8a2f-d4cae57cda1b",
   "metadata": {
    "pycharm": {
     "name": "#%%\n"
    }
   },
   "outputs": [],
   "source": [
    "EMBEDDING_SIZE = 1024\n",
    "MAX_SEQ_LEN = 512\n",
    "K_LET = 'singlets'\n",
    "device = torch.device('cuda:0' if torch.cuda.is_available() else 'cpu')\n",
    "distil_protbert_path = 'yarongef/DistilProtBert'\n",
    "test_set_path = f\"yarongef/{K_LET}_test_set\"\n",
    "training_set_path = f\"yarongef/{K_LET}_training_set\""
   ]
  },
  {
   "cell_type": "code",
   "execution_count": 25,
   "id": "1e5c4601-3751-491e-bfd1-b049f6154061",
   "metadata": {
    "pycharm": {
     "name": "#%%\n"
    }
   },
   "outputs": [
    {
     "data": {
      "application/vnd.jupyter.widget-view+json": {
       "model_id": "0926d04398934f6a9689c495dee7c225",
       "version_major": 2,
       "version_minor": 0
      },
      "text/plain": [
       "Downloading:   0%|          | 0.00/589 [00:00<?, ?B/s]"
      ]
     },
     "metadata": {},
     "output_type": "display_data"
    },
    {
     "data": {
      "application/vnd.jupyter.widget-view+json": {
       "model_id": "3e48e47a869946d4aedd1186c67091a9",
       "version_major": 2,
       "version_minor": 0
      },
      "text/plain": [
       "Downloading:   0%|          | 0.00/882M [00:00<?, ?B/s]"
      ]
     },
     "metadata": {},
     "output_type": "display_data"
    },
    {
     "name": "stderr",
     "output_type": "stream",
     "text": [
      "Some weights of the model checkpoint at yarongef/DistilProtBert were not used when initializing BertModel: ['cls.predictions.transform.LayerNorm.bias', 'cls.predictions.transform.dense.bias', 'cls.predictions.bias', 'cls.predictions.decoder.bias', 'cls.predictions.transform.LayerNorm.weight', 'cls.predictions.transform.dense.weight', 'cls.predictions.decoder.weight']\n",
      "- This IS expected if you are initializing BertModel from the checkpoint of a model trained on another task or with another architecture (e.g. initializing a BertForSequenceClassification model from a BertForPreTraining model).\n",
      "- This IS NOT expected if you are initializing BertModel from the checkpoint of a model that you expect to be exactly identical (initializing a BertForSequenceClassification model from a BertForSequenceClassification model).\n",
      "Some weights of BertModel were not initialized from the model checkpoint at yarongef/DistilProtBert and are newly initialized: ['bert.pooler.dense.weight', 'bert.pooler.dense.bias']\n",
      "You should probably TRAIN this model on a down-stream task to be able to use it for predictions and inference.\n"
     ]
    }
   ],
   "source": [
    "model = AutoModel.from_pretrained(distil_protbert_path)"
   ]
  },
  {
   "cell_type": "markdown",
   "id": "cd5f50a8-5cfa-4aff-8b45-3bb0892aa7ac",
   "metadata": {
    "pycharm": {
     "name": "#%% md\n"
    }
   },
   "source": [
    "Functions"
   ]
  },
  {
   "cell_type": "code",
   "execution_count": null,
   "id": "bed5d60b-cf72-4674-ab97-0d685a3c54c7",
   "metadata": {
    "pycharm": {
     "name": "#%%\n"
    }
   },
   "outputs": [],
   "source": [
    "def convert_dataset_to_df(dataset):\n",
    "    dataset_dic = {'Seq': dataset['test']['Seq'], 'length': dataset['test']['length'], 'label': dataset['test']['label']}\n",
    "    return pd.DataFrame(dataset_dic)\n",
    "\n",
    "def preprocess_seqs(data):\n",
    "    \"\"\"\n",
    "    create space between each amino acid + replace amino acids: U, Z, O and B with X\n",
    "    \"\"\"\n",
    "    sequences = []\n",
    "    for i in range(len(data)):\n",
    "        sequences.append(\" \".join(data.iloc[i,0])) # add space between each aa in order for it to be a token\n",
    "    sequences = [re.sub(r\"[UZOB]\", \"X\", sequence) for sequence in sequences] # special aa map to X\n",
    "    return sequences\n",
    "\n",
    "def get_full_length_protbert_embeddings(data, feature_extractor):\n",
    "    seqs_preprocessed = preprocess_seqs(data)\n",
    "    all_embeddings = np.zeros(shape=(len(data), MAX_SEQ_LEN, EMBEDDING_SIZE))\n",
    "    for i in range(len(seqs_preprocessed)):\n",
    "        seq_len = data.iloc[i,1]\n",
    "        embeddings = feature_extractor(seqs_preprocessed[i])\n",
    "        embeddings = np.array(embeddings)[:, 1:seq_len+1, :] # remove <CLS> & <SEP> special tokens\n",
    "        if seq_len < MAX_SEQ_LEN:\n",
    "            embeddings = np.pad(embeddings.squeeze(), pad_width=((0,MAX_SEQ_LEN-seq_len), (0,0))) # pad with rows of zeros (each row represents an amino acid)\n",
    "        all_embeddings[i] = embeddings\n",
    "        del embeddings\n",
    "    return all_embeddings"
   ]
  },
  {
   "cell_type": "markdown",
   "id": "84e9fa06-3b97-4182-b030-4848591a17d5",
   "metadata": {
    "pycharm": {
     "name": "#%% md\n"
    }
   },
   "source": [
    "Main"
   ]
  },
  {
   "cell_type": "code",
   "execution_count": null,
   "id": "61d15345-3cf4-4349-8283-948e073b77df",
   "metadata": {
    "pycharm": {
     "name": "#%%\n"
    }
   },
   "outputs": [],
   "source": [
    "dataset_path = 'dataset_features/'\n",
    "if not os.path.exists(dataset_path):\n",
    "    os.makedirs(dataset_path)\n",
    "\n",
    "test_set = load_dataset(test_set_path)\n",
    "test_set_df = convert_dataset_to_df(test_set)\n",
    "\n",
    "tokenizer = AutoTokenizer.from_pretrained(\"Rostlab/prot_bert\", do_lower_case=False)\n",
    "model = AutoModel.from_pretrained(distil_protbert_path)\n",
    "\n",
    "fe = pipeline('feature-extraction', model=model, tokenizer=tokenizer, device=0)\n",
    "all_embeds = get_full_length_protbert_embeddings(test_set_df, fe)\n",
    "\n",
    "all_embeds_torch = torch.from_numpy(all_embeds)\n",
    "max_pooler = nn.MaxPool1d(16, stride=16)\n",
    "output = max_pooler(all_embeds_torch)\n",
    "print(f'test set shape is: {output.shape}')\n",
    "\n",
    "torch.save(output, dataset_path+f'{K_LET}.pt')"
   ]
  }
 ],
 "metadata": {
  "kernelspec": {
   "display_name": "Python 3",
   "language": "python",
   "name": "python3"
  },
  "language_info": {
   "codemirror_mode": {
    "name": "ipython",
    "version": 3
   },
   "file_extension": ".py",
   "mimetype": "text/x-python",
   "name": "python",
   "nbconvert_exporter": "python",
   "pygments_lexer": "ipython3",
   "version": "3.8.5"
  }
 },
 "nbformat": 4,
 "nbformat_minor": 5
}
