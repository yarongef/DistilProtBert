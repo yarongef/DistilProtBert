{
 "cells": [
  {
   "cell_type": "markdown",
   "id": "6b833d45-96de-44cc-9fa5-6b83c41a9d0d",
   "metadata": {
    "pycharm": {
     "name": "#%% md\n"
    }
   },
   "source": [
    "Imports"
   ]
  },
  {
   "cell_type": "code",
   "execution_count": 1,
   "id": "e88494d3-2e56-4ab7-bd29-8f09dee537f7",
   "metadata": {
    "pycharm": {
     "name": "#%%\n"
    }
   },
   "outputs": [],
   "source": [
    "import pandas as pd\n",
    "from Bio import SeqIO\n",
    "from ushuffle import shuffle, Shuffler\n",
    "import torch"
   ]
  },
  {
   "cell_type": "markdown",
   "id": "35c063dc-8570-4b2f-90f2-18f8cacb3e75",
   "metadata": {
    "pycharm": {
     "name": "#%% md\n"
    }
   },
   "source": [
    "Constants"
   ]
  },
  {
   "cell_type": "code",
   "execution_count": 2,
   "id": "385c8498-ce72-47db-b5cf-c4a54a044fa5",
   "metadata": {
    "pycharm": {
     "name": "#%%\n"
    }
   },
   "outputs": [],
   "source": [
    "NUM_PROTEINS = 20577\n",
    "K_MER_SIZE = 1"
   ]
  },
  {
   "cell_type": "markdown",
   "id": "a9d3b493-91b4-49a8-b1ca-2ea2f643c57a",
   "metadata": {
    "pycharm": {
     "name": "#%% md\n"
    }
   },
   "source": [
    "Functions"
   ]
  },
  {
   "cell_type": "code",
   "execution_count": 3,
   "id": "3869a4e7-5baf-4206-bc91-ef401ab6a1c5",
   "metadata": {
    "pycharm": {
     "name": "#%%\n"
    }
   },
   "outputs": [],
   "source": [
    "def convert_fasta_to_dataframe(fasta_file_path, num_proteins):\n",
    "    lengths = [None for _ in range(num_proteins)]\n",
    "    sequences = [None for _ in range(num_proteins)]\n",
    "    i = 0\n",
    "    for record in SeqIO.parse(fasta_file_path, \"fasta\"):\n",
    "        lengths[i] = len(record.seq)\n",
    "        sequences[i] = str(record.seq)\n",
    "        i += 1\n",
    "    df_dic = {'Sequence': sequences, 'length': lengths}\n",
    "    df = pd.DataFrame(df_dic)\n",
    "    df = df.drop_duplicates(subset='Sequence').reset_index(drop=True)\n",
    "    return df.loc[df['length'] <= 512].loc[df['length'] >= 20].reset_index(drop=True)\n",
    "\n",
    "def shuffle_sequences(df_proteome, k_let):\n",
    "    seqs_ushuffled = [None for _ in range(len(df_proteome))]\n",
    "    lengths_ushuffled = [None for _ in range(len(df_proteome))]\n",
    "    seqs_not_shuff_inds = []\n",
    "    for i in range(len(df_proteome)):\n",
    "        if k_let >= 1:\n",
    "            orig_seq = df_proteome.iloc[i, 0]\n",
    "            orig_seq_bytes = orig_seq.encode()\n",
    "            shuffler = Shuffler(orig_seq_bytes, k_let)\n",
    "            shuff_seq_bytes = shuffler.shuffle()\n",
    "            shuff_seq = shuff_seq_bytes.decode()\n",
    "            if orig_seq==shuff_seq:\n",
    "                seqs_not_shuff_inds.append(i)\n",
    "\n",
    "        if k_let == 1:\n",
    "            orig_seq = df_proteome.iloc[i, 0]\n",
    "            orig_seq_bytes = orig_seq[1:].encode()\n",
    "            shuffler = Shuffler(orig_seq_bytes, k_let)\n",
    "            shuff_seq_bytes = shuffler.shuffle()\n",
    "            shuff_seq = orig_seq[0] + shuff_seq_bytes.decode()\n",
    "\n",
    "        seqs_ushuffled[i] = shuff_seq\n",
    "        lengths_ushuffled[i] = len(shuff_seq)\n",
    "\n",
    "    df_dic = {'Sequence': seqs_ushuffled, 'length': lengths_ushuffled}\n",
    "    return pd.DataFrame(df_dic), seqs_not_shuff_inds\n",
    "\n",
    "def convert_dataframe_to_fasta(fasta_file_path, df_real_proteins, df_shuffled_sequences):\n",
    "    fasta_file = open(fasta_file_path, 'w')\n",
    "\n",
    "    for i in range(len(df_real_proteins)):\n",
    "        fasta_file.write(f'>n_{i}\\n')\n",
    "        fasta_file.write(f'{df_real_proteins.iloc[i, 0]}\\n')\n",
    "        fasta_file.write(f'>s_{i}\\n')\n",
    "        fasta_file.write(f'{df_shuffled_sequences.iloc[i, 0]}\\n')\n",
    "\n",
    "    fasta_file.close()\n",
    "    \n",
    "def extarct_natural_and_real_sequences(fasta_file_path):\n",
    "    natural_lengths = {}\n",
    "    natural_sequences = {}\n",
    "    shuffled_sequences = {}\n",
    "    natural_sequences_list = []\n",
    "    shuffled_sequences_list = []\n",
    "    lengths = []\n",
    "    for record in SeqIO.parse(fasta_file_path, \"fasta\"):\n",
    "        rec_id = record.id.split('_')\n",
    "        if rec_id[0] == 'n':\n",
    "            natural_sequences[rec_id[1]] = str(record.seq)\n",
    "            natural_lengths[rec_id[1]] = len(record.seq)\n",
    "        else:\n",
    "            shuffled_sequences[rec_id[1]] = str(record.seq)\n",
    "    \n",
    "    for natural_record in natural_sequences:\n",
    "        if natural_record in shuffled_sequences:\n",
    "            natural_sequences_list.append(natural_sequences[natural_record])\n",
    "            shuffled_sequences_list.append(shuffled_sequences[natural_record])\n",
    "            lengths.append(natural_lengths[natural_record])\n",
    "    \n",
    "    all_seqs = natural_sequences_list + shuffled_sequences_list\n",
    "    human_proteome_vs_ushuffled_dic = {'Seq': all_seqs, 'length': lengths*2}\n",
    "    return pd.DataFrame(human_proteome_vs_ushuffled_dic)\n",
    "    \n",
    "def add_labels(df_dataset):\n",
    "    half_dataset_size = df_dataset.shape[0]//2\n",
    "    real_labels = torch.ones(half_dataset_size, dtype=torch.int)\n",
    "    ushuffled_labels = torch.zeros(half_dataset_size, dtype=torch.int)\n",
    "    y_data = torch.cat((real_labels, ushuffled_labels))\n",
    "    df_dataset['label'] = y_data\n",
    "    return df_dataset\n",
    "\n",
    "def split_dataset(df_all_sequences):\n",
    "    mid = len(df_all_sequences)//2\n",
    "    df_natural = df_all_sequences[:mid].reset_index(drop=True)\n",
    "    df_shuff = df_all_sequences[mid:].reset_index(drop=True)\n",
    "    \n",
    "    eighty_percent = round((0.8*len(df_natural))/10)*10\n",
    "    df_natural_train = df_natural.sample(eighty_percent)\n",
    "    train_inds = df_natural_train.index\n",
    "    \n",
    "    df_natural_train = df_natural_train.reset_index(drop=True)\n",
    "    df_natural_test = df_natural.drop(index=train_inds).reset_index(drop=True)\n",
    "    df_shuff_train = df_shuff.iloc[train_inds,:].reset_index(drop=True)\n",
    "    df_shuff_test = df_shuff.drop(index=train_inds).reset_index(drop=True)\n",
    "    \n",
    "    df_training_set = df_natural_train.append(df_shuff_train).reset_index(drop=True)\n",
    "    df_test_set = df_natural_test.append(df_shuff_test).reset_index(drop=True)\n",
    "    \n",
    "    return df_training_set, df_test_set"
   ]
  },
  {
   "cell_type": "markdown",
   "id": "cd44455a-30d3-4825-9398-cc2624f2dc27",
   "metadata": {
    "pycharm": {
     "name": "#%% md\n"
    }
   },
   "source": [
    "Get the human proteome from UniProt"
   ]
  },
  {
   "cell_type": "code",
   "execution_count": 4,
   "id": "09698aba-146c-463c-9044-6c1be52ac427",
   "metadata": {
    "pycharm": {
     "name": "#%%\n"
    }
   },
   "outputs": [
    {
     "name": "stdout",
     "output_type": "stream",
     "text": [
      "--2022-04-14 16:09:51--  https://ftp.uniprot.org/pub/databases/uniprot/current_release/knowledgebase/reference_proteomes/Eukaryota/UP000005640/UP000005640_9606.fasta.gz\n",
      "Resolving ftp.uniprot.org (ftp.uniprot.org)... 128.175.240.195\n",
      "Connecting to ftp.uniprot.org (ftp.uniprot.org)|128.175.240.195|:443... connected.\n",
      "HTTP request sent, awaiting response... 200 OK\n",
      "Length: 7724727 (7.4M) [application/x-gzip]\n",
      "Saving to: ‘UP000005640_9606.fasta.gz’\n",
      "\n",
      "UP000005640_9606.fa 100%[===================>]   7.37M  5.74MB/s    in 1.3s    \n",
      "\n",
      "2022-04-14 16:09:53 (5.74 MB/s) - ‘UP000005640_9606.fasta.gz’ saved [7724727/7724727]\n",
      "\n"
     ]
    }
   ],
   "source": [
    "!wget https://ftp.uniprot.org/pub/databases/uniprot/current_release/knowledgebase/reference_proteomes/Eukaryota/UP000005640/UP000005640_9606.fasta.gz\n",
    "!gzip -dk UP000005640_9606.fasta.gz"
   ]
  },
  {
   "cell_type": "code",
   "execution_count": 5,
   "id": "94c2d543-3e65-4f8b-9ab5-30d600aba579",
   "metadata": {
    "pycharm": {
     "name": "#%%\n"
    }
   },
   "outputs": [
    {
     "data": {
      "text/html": [
       "<div>\n",
       "<style scoped>\n",
       "    .dataframe tbody tr th:only-of-type {\n",
       "        vertical-align: middle;\n",
       "    }\n",
       "\n",
       "    .dataframe tbody tr th {\n",
       "        vertical-align: top;\n",
       "    }\n",
       "\n",
       "    .dataframe thead th {\n",
       "        text-align: right;\n",
       "    }\n",
       "</style>\n",
       "<table border=\"1\" class=\"dataframe\">\n",
       "  <thead>\n",
       "    <tr style=\"text-align: right;\">\n",
       "      <th></th>\n",
       "      <th>Sequence</th>\n",
       "      <th>length</th>\n",
       "    </tr>\n",
       "  </thead>\n",
       "  <tbody>\n",
       "    <tr>\n",
       "      <th>0</th>\n",
       "      <td>MAWTPLFLFLLTCCPGSNSQAVVTQEPSLTVSPGGTVTLTCGSSTG...</td>\n",
       "      <td>117</td>\n",
       "    </tr>\n",
       "    <tr>\n",
       "      <th>1</th>\n",
       "      <td>MGCCGCGGCGGCGGGCGGGCGSCTTCRCYRVGCCSSCCPCCRGCCG...</td>\n",
       "      <td>85</td>\n",
       "    </tr>\n",
       "    <tr>\n",
       "      <th>2</th>\n",
       "      <td>MSTFPVLAEDIPLRERHVKGRVDPHFRAPKMEMFQRLLLLLLLSMG...</td>\n",
       "      <td>187</td>\n",
       "    </tr>\n",
       "    <tr>\n",
       "      <th>3</th>\n",
       "      <td>MSSTLPALLCVGLCLSQRISAQQQTLPKPFIWAEPHFMVPKEKQVT...</td>\n",
       "      <td>304</td>\n",
       "    </tr>\n",
       "    <tr>\n",
       "      <th>4</th>\n",
       "      <td>MNLQRYWGEIPISSSQTNRSSFDLLPREFRLVEVHDPPLHQPSANK...</td>\n",
       "      <td>414</td>\n",
       "    </tr>\n",
       "    <tr>\n",
       "      <th>...</th>\n",
       "      <td>...</td>\n",
       "      <td>...</td>\n",
       "    </tr>\n",
       "    <tr>\n",
       "      <th>25401</th>\n",
       "      <td>MKAWDRPHLSECTESHLMHCAASYSSAGWMCGESESGLLEEELALG...</td>\n",
       "      <td>448</td>\n",
       "    </tr>\n",
       "    <tr>\n",
       "      <th>25402</th>\n",
       "      <td>MVARMRDRQRVRLPLLSRYVSLHQMPLQDGLNTIQFLQTDLRGPTE...</td>\n",
       "      <td>265</td>\n",
       "    </tr>\n",
       "    <tr>\n",
       "      <th>25403</th>\n",
       "      <td>MIGESGRNIKSSAEHQKLPISSGVGGFIQLVQFQCLQEVAISLPAG...</td>\n",
       "      <td>360</td>\n",
       "    </tr>\n",
       "    <tr>\n",
       "      <th>25404</th>\n",
       "      <td>MPEDEGYSDCTGYSGPWATIHFAEENRDAVQVFLRYEKSGEDRKDE...</td>\n",
       "      <td>174</td>\n",
       "    </tr>\n",
       "    <tr>\n",
       "      <th>25405</th>\n",
       "      <td>MSTQLLLLFRASPTRNHIHFHFNTMTHGGSALKLSWNHGGSVLNFH...</td>\n",
       "      <td>94</td>\n",
       "    </tr>\n",
       "  </tbody>\n",
       "</table>\n",
       "<p>25406 rows × 2 columns</p>\n",
       "</div>"
      ],
      "text/plain": [
       "                                                Sequence  length\n",
       "0      MAWTPLFLFLLTCCPGSNSQAVVTQEPSLTVSPGGTVTLTCGSSTG...     117\n",
       "1      MGCCGCGGCGGCGGGCGGGCGSCTTCRCYRVGCCSSCCPCCRGCCG...      85\n",
       "2      MSTFPVLAEDIPLRERHVKGRVDPHFRAPKMEMFQRLLLLLLLSMG...     187\n",
       "3      MSSTLPALLCVGLCLSQRISAQQQTLPKPFIWAEPHFMVPKEKQVT...     304\n",
       "4      MNLQRYWGEIPISSSQTNRSSFDLLPREFRLVEVHDPPLHQPSANK...     414\n",
       "...                                                  ...     ...\n",
       "25401  MKAWDRPHLSECTESHLMHCAASYSSAGWMCGESESGLLEEELALG...     448\n",
       "25402  MVARMRDRQRVRLPLLSRYVSLHQMPLQDGLNTIQFLQTDLRGPTE...     265\n",
       "25403  MIGESGRNIKSSAEHQKLPISSGVGGFIQLVQFQCLQEVAISLPAG...     360\n",
       "25404  MPEDEGYSDCTGYSGPWATIHFAEENRDAVQVFLRYEKSGEDRKDE...     174\n",
       "25405  MSTQLLLLFRASPTRNHIHFHFNTMTHGGSALKLSWNHGGSVLNFH...      94\n",
       "\n",
       "[25406 rows x 2 columns]"
      ]
     },
     "metadata": {},
     "output_type": "display_data"
    }
   ],
   "source": [
    "human_proteome = convert_fasta_to_dataframe('UP000005640_9606.fasta', NUM_PROTEINS)\n",
    "human_proteome_shuffled, seqs_not_shuffled = shuffle_sequences(human_proteome, K_MER_SIZE)\n",
    "if len(seqs_not_shuffled) > 0:\n",
    "    human_proteome = human_proteome.drop(index=seqs_not_shuffled).reset_index(drop=True)\n",
    "    human_proteome_shuffled = human_proteome_shuffled.drop(index=seqs_not_shuffled).reset_index(drop=True)\n",
    "human_proteome_vs_shuffled = human_proteome.append(human_proteome_shuffled).reset_index(drop=True)\n",
    "convert_dataframe_to_fasta('human_proteome_vs_ushuffled.fasta', human_proteome_shuffled, human_proteome_vs_shuffled)\n",
    "display(human_proteome_vs_shuffled)"
   ]
  },
  {
   "cell_type": "markdown",
   "id": "0214b557-815b-4c69-9333-adb3ed879646",
   "metadata": {
    "pycharm": {
     "name": "#%% md\n"
    }
   },
   "source": [
    "Perform h-CD-HIT using _human_proteome_vs_ushuffled.fasta_ file with pairwise identity cutoff of 0.9, 0.5 and 0.1 \\\n",
    "(available at http://weizhong-lab.ucsd.edu/cdhit-web-server/cgi-bin/index.cgi?cmd=h-cd-hit)"
   ]
  },
  {
   "cell_type": "markdown",
   "id": "0c3a055e-af6f-444c-93c2-1f0add63bf8c",
   "metadata": {
    "pycharm": {
     "name": "#%% md\n"
    }
   },
   "source": [
    "Count number of natural and shuffled sequences after CD-HIT"
   ]
  },
  {
   "cell_type": "code",
   "execution_count": 6,
   "id": "5c52eee5-e770-428e-8fe1-40192c76d2e9",
   "metadata": {
    "pycharm": {
     "name": "#%%\n"
    }
   },
   "outputs": [
    {
     "name": "stdout",
     "output_type": "stream",
     "text": [
      " There are 5857 natural sequences after CD-HIT\n",
      " There are 12594 shuffled sequences after CD-HIT\n"
     ]
    }
   ],
   "source": [
    "cd_hit_num_natural_seqs = !grep -c '>n' cd_hit_human_proteome_vs_ushuffled.fasta # filename after h-CD-HIT\n",
    "cd_hit_num_natural_seqs = int(cd_hit_num_natural_seqs[0])\n",
    "print(f' There are {cd_hit_num_natural_seqs} natural sequences after CD-HIT')\n",
    "cd_hit_num_shuffled_seqs = !grep -c '>s' cd_hit_human_proteome_vs_ushuffled.fasta\n",
    "cd_hit_num_shuffled_seqs = int(cd_hit_num_shuffled_seqs[0])\n",
    "print(f' There are {cd_hit_num_shuffled_seqs} shuffled sequences after CD-HIT')"
   ]
  },
  {
   "cell_type": "code",
   "execution_count": 7,
   "id": "f3af1823-b7c0-425f-8406-cd8c0febc414",
   "metadata": {
    "pycharm": {
     "name": "#%%\n"
    }
   },
   "outputs": [
    {
     "data": {
      "text/html": [
       "<div>\n",
       "<style scoped>\n",
       "    .dataframe tbody tr th:only-of-type {\n",
       "        vertical-align: middle;\n",
       "    }\n",
       "\n",
       "    .dataframe tbody tr th {\n",
       "        vertical-align: top;\n",
       "    }\n",
       "\n",
       "    .dataframe thead th {\n",
       "        text-align: right;\n",
       "    }\n",
       "</style>\n",
       "<table border=\"1\" class=\"dataframe\">\n",
       "  <thead>\n",
       "    <tr style=\"text-align: right;\">\n",
       "      <th></th>\n",
       "      <th>Seq</th>\n",
       "      <th>length</th>\n",
       "      <th>label</th>\n",
       "    </tr>\n",
       "  </thead>\n",
       "  <tbody>\n",
       "    <tr>\n",
       "      <th>0</th>\n",
       "      <td>MSTFPVLAEDIPLRERHVKGRVDPHFRAPKMEMFQRLLLLLLLSMG...</td>\n",
       "      <td>187</td>\n",
       "      <td>1</td>\n",
       "    </tr>\n",
       "    <tr>\n",
       "      <th>1</th>\n",
       "      <td>MNLQRYWGEIPISSSQTNRSSFDLLPREFRLVEVHDPPLHQPSANK...</td>\n",
       "      <td>414</td>\n",
       "      <td>1</td>\n",
       "    </tr>\n",
       "    <tr>\n",
       "      <th>2</th>\n",
       "      <td>MSCHNCSDPQVLCSSGQLFLQPLWDHLRSWEALLQSPFFPVIFSIT...</td>\n",
       "      <td>272</td>\n",
       "      <td>1</td>\n",
       "    </tr>\n",
       "    <tr>\n",
       "      <th>3</th>\n",
       "      <td>MRLPAQLLGLLMLWVPGSSEDIVMTQTPLSLPVTPGEPASISCRSS...</td>\n",
       "      <td>121</td>\n",
       "      <td>1</td>\n",
       "    </tr>\n",
       "    <tr>\n",
       "      <th>4</th>\n",
       "      <td>MNLAISIALLLTVLQVSRGQKVTSLTACLVDQSLRLDCRHENTSSS...</td>\n",
       "      <td>161</td>\n",
       "      <td>1</td>\n",
       "    </tr>\n",
       "    <tr>\n",
       "      <th>...</th>\n",
       "      <td>...</td>\n",
       "      <td>...</td>\n",
       "      <td>...</td>\n",
       "    </tr>\n",
       "    <tr>\n",
       "      <th>11693</th>\n",
       "      <td>MELGAERTPKDGSSEMSQELGIGGNKGDELNIIMEDEKTEMSYACR...</td>\n",
       "      <td>253</td>\n",
       "      <td>0</td>\n",
       "    </tr>\n",
       "    <tr>\n",
       "      <th>11694</th>\n",
       "      <td>MHIKRNNVFNSKTSQCAIGYFLSRVDIQASDQFTINLRTTNPFVWP...</td>\n",
       "      <td>453</td>\n",
       "      <td>0</td>\n",
       "    </tr>\n",
       "    <tr>\n",
       "      <th>11695</th>\n",
       "      <td>MRGSKMGERTFDTKSGCAALIGPKAPDPPLERSEEVVYSGLEEACP...</td>\n",
       "      <td>448</td>\n",
       "      <td>0</td>\n",
       "    </tr>\n",
       "    <tr>\n",
       "      <th>11696</th>\n",
       "      <td>MQLFALELHRLRTHAHRLEHGPDVWRRLYLDDKVLWDVRWPLRGAR...</td>\n",
       "      <td>265</td>\n",
       "      <td>0</td>\n",
       "    </tr>\n",
       "    <tr>\n",
       "      <th>11697</th>\n",
       "      <td>MCKGIFVHTLLHLSHLQLRSGGLWVLYTLRFQKHPWSMLPLLLATF...</td>\n",
       "      <td>94</td>\n",
       "      <td>0</td>\n",
       "    </tr>\n",
       "  </tbody>\n",
       "</table>\n",
       "<p>11698 rows × 3 columns</p>\n",
       "</div>"
      ],
      "text/plain": [
       "                                                     Seq  length  label\n",
       "0      MSTFPVLAEDIPLRERHVKGRVDPHFRAPKMEMFQRLLLLLLLSMG...     187      1\n",
       "1      MNLQRYWGEIPISSSQTNRSSFDLLPREFRLVEVHDPPLHQPSANK...     414      1\n",
       "2      MSCHNCSDPQVLCSSGQLFLQPLWDHLRSWEALLQSPFFPVIFSIT...     272      1\n",
       "3      MRLPAQLLGLLMLWVPGSSEDIVMTQTPLSLPVTPGEPASISCRSS...     121      1\n",
       "4      MNLAISIALLLTVLQVSRGQKVTSLTACLVDQSLRLDCRHENTSSS...     161      1\n",
       "...                                                  ...     ...    ...\n",
       "11693  MELGAERTPKDGSSEMSQELGIGGNKGDELNIIMEDEKTEMSYACR...     253      0\n",
       "11694  MHIKRNNVFNSKTSQCAIGYFLSRVDIQASDQFTINLRTTNPFVWP...     453      0\n",
       "11695  MRGSKMGERTFDTKSGCAALIGPKAPDPPLERSEEVVYSGLEEACP...     448      0\n",
       "11696  MQLFALELHRLRTHAHRLEHGPDVWRRLYLDDKVLWDVRWPLRGAR...     265      0\n",
       "11697  MCKGIFVHTLLHLSHLQLRSGGLWVLYTLRFQKHPWSMLPLLLATF...      94      0\n",
       "\n",
       "[11698 rows x 3 columns]"
      ]
     },
     "metadata": {},
     "output_type": "display_data"
    }
   ],
   "source": [
    "cd_hit_human_proteome_vs_shuffled = extarct_natural_and_real_sequences('cd_hit_human_proteome_vs_ushuffled.fasta')\n",
    "cd_hit_human_proteome_vs_shuffled = add_labels(cd_hit_human_proteome_vs_shuffled)\n",
    "display(cd_hit_human_proteome_vs_shuffled)"
   ]
  },
  {
   "cell_type": "markdown",
   "id": "41b7be3b-d541-4714-aa13-a4bab0999f7c",
   "metadata": {
    "pycharm": {
     "name": "#%% md\n"
    }
   },
   "source": [
    "Split dataset to 80% training set and 20% test set"
   ]
  },
  {
   "cell_type": "code",
   "execution_count": 8,
   "id": "cb06e358-0935-48e3-a97c-f85f6f158689",
   "metadata": {
    "pycharm": {
     "name": "#%%\n"
    }
   },
   "outputs": [
    {
     "data": {
      "text/html": [
       "<div>\n",
       "<style scoped>\n",
       "    .dataframe tbody tr th:only-of-type {\n",
       "        vertical-align: middle;\n",
       "    }\n",
       "\n",
       "    .dataframe tbody tr th {\n",
       "        vertical-align: top;\n",
       "    }\n",
       "\n",
       "    .dataframe thead th {\n",
       "        text-align: right;\n",
       "    }\n",
       "</style>\n",
       "<table border=\"1\" class=\"dataframe\">\n",
       "  <thead>\n",
       "    <tr style=\"text-align: right;\">\n",
       "      <th></th>\n",
       "      <th>Seq</th>\n",
       "      <th>length</th>\n",
       "      <th>label</th>\n",
       "    </tr>\n",
       "  </thead>\n",
       "  <tbody>\n",
       "    <tr>\n",
       "      <th>0</th>\n",
       "      <td>MELATRYQIPKEVADIFNAPSDDEEFVGFRDDVPMETLSSEESCDS...</td>\n",
       "      <td>454</td>\n",
       "      <td>1</td>\n",
       "    </tr>\n",
       "    <tr>\n",
       "      <th>1</th>\n",
       "      <td>MAPSRLQLGLRAAYSGISSVAGFSIFLVWTVVYRQPGTAAMGGLAG...</td>\n",
       "      <td>146</td>\n",
       "      <td>1</td>\n",
       "    </tr>\n",
       "    <tr>\n",
       "      <th>2</th>\n",
       "      <td>MQKSEGSGGTQLKNRATGNYDQRTSSSTQLKHRNAVQGSKSSLSTS...</td>\n",
       "      <td>248</td>\n",
       "      <td>1</td>\n",
       "    </tr>\n",
       "    <tr>\n",
       "      <th>3</th>\n",
       "      <td>MNGLPSAEAPGGAGCALAGLPPLPRGLSGLLNASGGSWRELERVYS...</td>\n",
       "      <td>189</td>\n",
       "      <td>1</td>\n",
       "    </tr>\n",
       "    <tr>\n",
       "      <th>4</th>\n",
       "      <td>MGRPLLLPLLPLLLPPAFLQPSGSTGSGPSYLYGVTQPKHLSASMG...</td>\n",
       "      <td>303</td>\n",
       "      <td>1</td>\n",
       "    </tr>\n",
       "    <tr>\n",
       "      <th>...</th>\n",
       "      <td>...</td>\n",
       "      <td>...</td>\n",
       "      <td>...</td>\n",
       "    </tr>\n",
       "    <tr>\n",
       "      <th>9355</th>\n",
       "      <td>MQQLANKGQDDLDSTIKWKPNASHYWIEAAPDSNQLLGLMRVNSNL...</td>\n",
       "      <td>433</td>\n",
       "      <td>0</td>\n",
       "    </tr>\n",
       "    <tr>\n",
       "      <th>9356</th>\n",
       "      <td>MLASHFLYTTNLKRAINESLGEGKNAETEQAIETIFVDTRHPKHEL...</td>\n",
       "      <td>268</td>\n",
       "      <td>0</td>\n",
       "    </tr>\n",
       "    <tr>\n",
       "      <th>9357</th>\n",
       "      <td>MNVVAKLSVADDYFNHRIGLYLNINKYQASSLSTMLVRDQVYTSIA...</td>\n",
       "      <td>350</td>\n",
       "      <td>0</td>\n",
       "    </tr>\n",
       "    <tr>\n",
       "      <th>9358</th>\n",
       "      <td>MERESQYEGRSETLIQLVAQEESKFEYVKLKPQLGKGLQEEISQSP...</td>\n",
       "      <td>190</td>\n",
       "      <td>0</td>\n",
       "    </tr>\n",
       "    <tr>\n",
       "      <th>9359</th>\n",
       "      <td>MDPVDYNVSAFRVMRPGVYQSVRDGDRIMPGKQSGSFVSKNRILVG...</td>\n",
       "      <td>204</td>\n",
       "      <td>0</td>\n",
       "    </tr>\n",
       "  </tbody>\n",
       "</table>\n",
       "<p>9360 rows × 3 columns</p>\n",
       "</div>"
      ],
      "text/plain": [
       "                                                    Seq  length  label\n",
       "0     MELATRYQIPKEVADIFNAPSDDEEFVGFRDDVPMETLSSEESCDS...     454      1\n",
       "1     MAPSRLQLGLRAAYSGISSVAGFSIFLVWTVVYRQPGTAAMGGLAG...     146      1\n",
       "2     MQKSEGSGGTQLKNRATGNYDQRTSSSTQLKHRNAVQGSKSSLSTS...     248      1\n",
       "3     MNGLPSAEAPGGAGCALAGLPPLPRGLSGLLNASGGSWRELERVYS...     189      1\n",
       "4     MGRPLLLPLLPLLLPPAFLQPSGSTGSGPSYLYGVTQPKHLSASMG...     303      1\n",
       "...                                                 ...     ...    ...\n",
       "9355  MQQLANKGQDDLDSTIKWKPNASHYWIEAAPDSNQLLGLMRVNSNL...     433      0\n",
       "9356  MLASHFLYTTNLKRAINESLGEGKNAETEQAIETIFVDTRHPKHEL...     268      0\n",
       "9357  MNVVAKLSVADDYFNHRIGLYLNINKYQASSLSTMLVRDQVYTSIA...     350      0\n",
       "9358  MERESQYEGRSETLIQLVAQEESKFEYVKLKPQLGKGLQEEISQSP...     190      0\n",
       "9359  MDPVDYNVSAFRVMRPGVYQSVRDGDRIMPGKQSGSFVSKNRILVG...     204      0\n",
       "\n",
       "[9360 rows x 3 columns]"
      ]
     },
     "metadata": {},
     "output_type": "display_data"
    },
    {
     "data": {
      "text/html": [
       "<div>\n",
       "<style scoped>\n",
       "    .dataframe tbody tr th:only-of-type {\n",
       "        vertical-align: middle;\n",
       "    }\n",
       "\n",
       "    .dataframe tbody tr th {\n",
       "        vertical-align: top;\n",
       "    }\n",
       "\n",
       "    .dataframe thead th {\n",
       "        text-align: right;\n",
       "    }\n",
       "</style>\n",
       "<table border=\"1\" class=\"dataframe\">\n",
       "  <thead>\n",
       "    <tr style=\"text-align: right;\">\n",
       "      <th></th>\n",
       "      <th>Seq</th>\n",
       "      <th>length</th>\n",
       "      <th>label</th>\n",
       "    </tr>\n",
       "  </thead>\n",
       "  <tbody>\n",
       "    <tr>\n",
       "      <th>0</th>\n",
       "      <td>MSCHNCSDPQVLCSSGQLFLQPLWDHLRSWEALLQSPFFPVIFSIT...</td>\n",
       "      <td>272</td>\n",
       "      <td>1</td>\n",
       "    </tr>\n",
       "    <tr>\n",
       "      <th>1</th>\n",
       "      <td>MEDRAGEQEQERHSLRLEKLQHWARHRQSGHLLVLAVSQLWLAVVV...</td>\n",
       "      <td>217</td>\n",
       "      <td>1</td>\n",
       "    </tr>\n",
       "    <tr>\n",
       "      <th>2</th>\n",
       "      <td>MAPLCPSPWLPLLIPAPAPGLTVQLLLSLLLLVPVHPQRLPRMQED...</td>\n",
       "      <td>459</td>\n",
       "      <td>1</td>\n",
       "    </tr>\n",
       "    <tr>\n",
       "      <th>3</th>\n",
       "      <td>MSPLECSECFGDQLLHRTYTWQLTLHSRPNYTRKRDTRSESLEIPI...</td>\n",
       "      <td>448</td>\n",
       "      <td>1</td>\n",
       "    </tr>\n",
       "    <tr>\n",
       "      <th>4</th>\n",
       "      <td>MGTPASVVSEPPPWQAPIEARGRKQASANIFQDAELLQIQALFQRS...</td>\n",
       "      <td>147</td>\n",
       "      <td>1</td>\n",
       "    </tr>\n",
       "    <tr>\n",
       "      <th>...</th>\n",
       "      <td>...</td>\n",
       "      <td>...</td>\n",
       "      <td>...</td>\n",
       "    </tr>\n",
       "    <tr>\n",
       "      <th>2333</th>\n",
       "      <td>MPCRSSPAGQRPTGGRWAGSGQQADGPAPGIFLLGRTLRPQASLGA...</td>\n",
       "      <td>163</td>\n",
       "      <td>0</td>\n",
       "    </tr>\n",
       "    <tr>\n",
       "      <th>2334</th>\n",
       "      <td>MKSANKEAQLKLNSMVTLLQAAELQNNNKSPLSKIQRGVEKEPAKK...</td>\n",
       "      <td>500</td>\n",
       "      <td>0</td>\n",
       "    </tr>\n",
       "    <tr>\n",
       "      <th>2335</th>\n",
       "      <td>MLYNSQIYNIVKRSYTSFKDTIMIPTEGIGGWTKLNNPLQMNIFQM...</td>\n",
       "      <td>229</td>\n",
       "      <td>0</td>\n",
       "    </tr>\n",
       "    <tr>\n",
       "      <th>2336</th>\n",
       "      <td>MEMFSFFVTHVKTSCSAQQKSFRTPGKFRLLMGHDTQFATCKDHQG...</td>\n",
       "      <td>476</td>\n",
       "      <td>0</td>\n",
       "    </tr>\n",
       "    <tr>\n",
       "      <th>2337</th>\n",
       "      <td>MRGSKMGERTFDTKSGCAALIGPKAPDPPLERSEEVVYSGLEEACP...</td>\n",
       "      <td>448</td>\n",
       "      <td>0</td>\n",
       "    </tr>\n",
       "  </tbody>\n",
       "</table>\n",
       "<p>2338 rows × 3 columns</p>\n",
       "</div>"
      ],
      "text/plain": [
       "                                                    Seq  length  label\n",
       "0     MSCHNCSDPQVLCSSGQLFLQPLWDHLRSWEALLQSPFFPVIFSIT...     272      1\n",
       "1     MEDRAGEQEQERHSLRLEKLQHWARHRQSGHLLVLAVSQLWLAVVV...     217      1\n",
       "2     MAPLCPSPWLPLLIPAPAPGLTVQLLLSLLLLVPVHPQRLPRMQED...     459      1\n",
       "3     MSPLECSECFGDQLLHRTYTWQLTLHSRPNYTRKRDTRSESLEIPI...     448      1\n",
       "4     MGTPASVVSEPPPWQAPIEARGRKQASANIFQDAELLQIQALFQRS...     147      1\n",
       "...                                                 ...     ...    ...\n",
       "2333  MPCRSSPAGQRPTGGRWAGSGQQADGPAPGIFLLGRTLRPQASLGA...     163      0\n",
       "2334  MKSANKEAQLKLNSMVTLLQAAELQNNNKSPLSKIQRGVEKEPAKK...     500      0\n",
       "2335  MLYNSQIYNIVKRSYTSFKDTIMIPTEGIGGWTKLNNPLQMNIFQM...     229      0\n",
       "2336  MEMFSFFVTHVKTSCSAQQKSFRTPGKFRLLMGHDTQFATCKDHQG...     476      0\n",
       "2337  MRGSKMGERTFDTKSGCAALIGPKAPDPPLERSEEVVYSGLEEACP...     448      0\n",
       "\n",
       "[2338 rows x 3 columns]"
      ]
     },
     "metadata": {},
     "output_type": "display_data"
    }
   ],
   "source": [
    "df_train, df_test = split_dataset(cd_hit_human_proteome_vs_shuffled)\n",
    "df_train.to_csv('training_set.csv', index=False)\n",
    "df_test.to_csv('test_set.csv', index=False)\n",
    "display(df_train)\n",
    "display(df_test)"
   ]
  }
 ],
 "metadata": {
  "kernelspec": {
   "display_name": "Python 3",
   "language": "python",
   "name": "python3"
  },
  "language_info": {
   "codemirror_mode": {
    "name": "ipython",
    "version": 3
   },
   "file_extension": ".py",
   "mimetype": "text/x-python",
   "name": "python",
   "nbconvert_exporter": "python",
   "pygments_lexer": "ipython3",
   "version": "3.8.5"
  }
 },
 "nbformat": 4,
 "nbformat_minor": 5
}